{
 "cells": [
  {
   "cell_type": "markdown",
   "id": "6ce25cb3-45f5-4846-8285-2c3903348a60",
   "metadata": {},
   "source": [
    "# Data Science Tools and Ecosystem"
   ]
  },
  {
   "cell_type": "markdown",
   "id": "963f5a7d-7e81-40fb-afc6-edb40b57f4e2",
   "metadata": {},
   "source": [
    "In this notebook, Data Science Tools and Ecosystem are summarized."
   ]
  },
  {
   "cell_type": "markdown",
   "id": "658ab0bd-fe04-41e6-9e77-7ccb3a810bb5",
   "metadata": {},
   "source": [
    "some of the key takeaways from the course\n",
    "Objectives\n",
    "1. The popular languages that Data Scientists use\n",
    "2. Commonly used libraries by Data Scientists\n",
    "4. Writing Arithmetic expression"
   ]
  },
  {
   "cell_type": "markdown",
   "id": "36309e60-2be1-4880-9a87-142de8da5cba",
   "metadata": {},
   "source": [
    "Some of the popular languages that Data Scientists use are:\n",
    "1. Python\n",
    "2. R\n",
    "3. SQL\n",
    "4. Ja"
   ]
  },
  {
   "cell_type": "markdown",
   "id": "bbce1fc8-4ce9-4e1c-b942-1685cfa089ff",
   "metadata": {},
   "source": [
    "Some of the commonly used libraries by Data Scientists include:\n",
    "1. NumPy\n",
    "2. Pandas\n",
    "3. Matplotlib\n",
    "4. TensorFlow"
   ]
  },
  {
   "cell_type": "markdown",
   "id": "aec298fd-d322-4d0d-8f2c-567b3144f5cc",
   "metadata": {},
   "source": [
    "| Data science tools |\n",
    "| :----------------: |\n",
    "| Oracle Database |\n",
    "| Microsoft SQL Server|\n",
    "| IBM Db2 |\n"
   ]
  },
  {
   "cell_type": "markdown",
   "id": "67afda9f-47b0-42e9-b18f-7cd014bec549",
   "metadata": {},
   "source": [
    "### Below are a few examples of evaluating arithmetic expressions in Python."
   ]
  },
  {
   "cell_type": "code",
   "execution_count": 1,
   "id": "dab12724-ae6c-4c62-a780-f876ec69f97b",
   "metadata": {},
   "outputs": [
    {
     "data": {
      "text/plain": [
       "17"
      ]
     },
     "execution_count": 1,
     "metadata": {},
     "output_type": "execute_result"
    }
   ],
   "source": [
    "# This a simple arithmetic expression to mutiply then add integers.\n",
    "(3*4)+5"
   ]
  },
  {
   "cell_type": "code",
   "execution_count": 2,
   "id": "3c2c9287-5134-44e3-89c5-37e3280c5cc9",
   "metadata": {},
   "outputs": [
    {
     "data": {
      "text/plain": [
       "3.3333333333333335"
      ]
     },
     "execution_count": 2,
     "metadata": {},
     "output_type": "execute_result"
    }
   ],
   "source": [
    "# This will convert 200 minutes to hours by diving by 60.\n",
    "200/60"
   ]
  },
  {
   "cell_type": "markdown",
   "id": "b8319de3-bc2b-483e-82cb-96d76211358a",
   "metadata": {},
   "source": [
    "## Author\n",
    "Yasmin"
   ]
  }
 ],
 "metadata": {
  "kernelspec": {
   "display_name": "Python 3 (ipykernel)",
   "language": "python",
   "name": "python3"
  },
  "language_info": {
   "codemirror_mode": {
    "name": "ipython",
    "version": 3
   },
   "file_extension": ".py",
   "mimetype": "text/x-python",
   "name": "python",
   "nbconvert_exporter": "python",
   "pygments_lexer": "ipython3",
   "version": "3.12.8"
  }
 },
 "nbformat": 4,
 "nbformat_minor": 5
}
